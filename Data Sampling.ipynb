{
 "cells": [
  {
   "cell_type": "code",
   "execution_count": 43,
   "metadata": {},
   "outputs": [],
   "source": [
    "import os\n",
    "from tqdm import tqdm\n",
    "import random\n",
    "import cv2\n",
    "from PIL import Image\n",
    "\n",
    "import seaborn as sns\n",
    "import matplotlib.pyplot as plt\n",
    "import numpy as np\n",
    "import pandas as pd"
   ]
  },
  {
   "cell_type": "markdown",
   "metadata": {},
   "source": [
    "## Read Images"
   ]
  },
  {
   "cell_type": "code",
   "execution_count": 31,
   "metadata": {},
   "outputs": [],
   "source": [
    "train_data_path = 'bttai-ajl-2025/training_data'\n",
    "validation_data_path = 'bttai-ajl-2025/validation_data'"
   ]
  },
  {
   "cell_type": "code",
   "execution_count": 32,
   "metadata": {},
   "outputs": [],
   "source": [
    "# Create directories for train and validation datasets\n",
    "os.mkdir(train_data_path)\n",
    "os.mkdir(validation_data_path)"
   ]
  },
  {
   "cell_type": "code",
   "execution_count": 33,
   "metadata": {},
   "outputs": [],
   "source": [
    "def sample_files_from_directories(base_dir, sample_size_per_class):\n",
    "    \"\"\"\n",
    "    Draws a uniform sample of filenames from directories, where each directory represents a class.\n",
    "\n",
    "    Parameters:\n",
    "        base_dir (str): The path to the base directory containing subdirectories.\n",
    "        sample_size_per_class (int): The number of filenames to sample from each class directory.\n",
    "\n",
    "    Returns:\n",
    "        dict: A dictionary with class labels (directory names) as keys and lists of sampled filenames as values.\n",
    "    \"\"\"\n",
    "    # Dictionary to store sampled filenames for each class\n",
    "    sampled_files = {}\n",
    "\n",
    "    # Iterate through each subdirectory ('class_dir') in the base directory ('base_dir')\n",
    "    for class_dir in tqdm(os.listdir(base_dir), desc=\"Processing classes\"):\n",
    "        class_path = os.path.join(base_dir, class_dir)\n",
    "\n",
    "        # Get all filenames in the current class directory\n",
    "        filenames = os.listdir(class_path)\n",
    "\n",
    "        # Check if there are enough files to sample from\n",
    "        if len(filenames) < sample_size_per_class:\n",
    "            print(f\"Warning: Not enough files in class '{class_dir}' to sample {sample_size_per_class}. Using all available files.\")\n",
    "            sampled_files[class_dir] = filenames\n",
    "        else:\n",
    "            # Randomly sample files from the current class directory\n",
    "            sampled_files[class_dir] = random.sample(filenames, sample_size_per_class)\n",
    "\n",
    "    return sampled_files\n"
   ]
  },
  {
   "cell_type": "code",
   "execution_count": 34,
   "metadata": {},
   "outputs": [],
   "source": [
    "# image size\n",
    "\"\"\"\n",
    "    Note: You can choose your own image size \n",
    "    but when you images, you have to set this size\n",
    "\"\"\"\n",
    "image_size = (224, 224)\n",
    "\n",
    "# sample size for all data\n",
    "all_sample_size = 407\n",
    "\n",
    "# sample size for training\n",
    "sample_size = 40"
   ]
  },
  {
   "cell_type": "code",
   "execution_count": 35,
   "metadata": {},
   "outputs": [],
   "source": [
    "# training image directory \n",
    "training_path = 'bttai-ajl-2025/train/train'\n",
    "\n",
    "# testing image directory\n",
    "testing_path = 'bttai-ajl-2025/test/test'"
   ]
  },
  {
   "cell_type": "code",
   "execution_count": 36,
   "metadata": {},
   "outputs": [
    {
     "name": "stderr",
     "output_type": "stream",
     "text": [
      "Processing classes: 100%|██████████| 21/21 [00:00<00:00, 8119.50it/s]"
     ]
    },
    {
     "name": "stdout",
     "output_type": "stream",
     "text": [
      "Warning: Not enough files in class 'acne' to sample 407. Using all available files.\n",
      "Warning: Not enough files in class 'acne-vulgaris' to sample 407. Using all available files.\n",
      "Warning: Not enough files in class 'actinic-keratosis' to sample 407. Using all available files.\n",
      "Warning: Not enough files in class 'basal-cell-carcinoma' to sample 407. Using all available files.\n",
      "Warning: Not enough files in class 'basal-cell-carcinoma-morpheiform' to sample 407. Using all available files.\n",
      "Warning: Not enough files in class 'dermatofibroma' to sample 407. Using all available files.\n",
      "Warning: Not enough files in class 'dermatomyositis' to sample 407. Using all available files.\n",
      "Warning: Not enough files in class 'dyshidrotic-eczema' to sample 407. Using all available files.\n",
      "Warning: Not enough files in class 'eczema' to sample 407. Using all available files.\n",
      "Warning: Not enough files in class 'epidermal-nevus' to sample 407. Using all available files.\n",
      "Warning: Not enough files in class 'folliculitis' to sample 407. Using all available files.\n",
      "Warning: Not enough files in class 'kaposi-sarcoma' to sample 407. Using all available files.\n",
      "Warning: Not enough files in class 'keloid' to sample 407. Using all available files.\n",
      "Warning: Not enough files in class 'malignant-melanoma' to sample 407. Using all available files.\n",
      "Warning: Not enough files in class 'melanoma' to sample 407. Using all available files.\n",
      "Warning: Not enough files in class 'mycosis-fungoides' to sample 407. Using all available files.\n",
      "Warning: Not enough files in class 'prurigo-nodularis' to sample 407. Using all available files.\n",
      "Warning: Not enough files in class 'pyogenic-granuloma' to sample 407. Using all available files.\n",
      "Warning: Not enough files in class 'seborrheic-keratosis' to sample 407. Using all available files.\n",
      "Warning: Not enough files in class 'superficial-spreading-melanoma-ssm' to sample 407. Using all available files.\n"
     ]
    },
    {
     "name": "stderr",
     "output_type": "stream",
     "text": [
      "\n"
     ]
    }
   ],
   "source": [
    "# all sample directory\n",
    "all_data = sample_files_from_directories(training_path, all_sample_size)\n",
    "\n",
    "# get the filename from each disease folder\n",
    "all_sampled_images = set()\n",
    "for filenames in all_data.values():\n",
    "    all_sampled_images.update(filenames)"
   ]
  },
  {
   "cell_type": "code",
   "execution_count": 37,
   "metadata": {},
   "outputs": [
    {
     "name": "stderr",
     "output_type": "stream",
     "text": [
      "Processing classes: 100%|██████████| 21/21 [00:00<00:00, 8192.76it/s]\n"
     ]
    }
   ],
   "source": [
    "# training sample directory\n",
    "train_data = sample_files_from_directories(training_path, sample_size)\n",
    "train_sample_size = sum(len(filenames) for filenames in train_data.values())\n",
    "\n",
    "# get the filename from each disease folder\n",
    "training_sampled_images = set()\n",
    "for filenames in train_data.values():\n",
    "    training_sampled_images.update(filenames)"
   ]
  },
  {
   "cell_type": "code",
   "execution_count": 38,
   "metadata": {},
   "outputs": [],
   "source": [
    "# remaining sample\n",
    "remaning_data = list(all_sampled_images - training_sampled_images)\n",
    "\n",
    "# validation sample directory\n",
    "validation_data = random.sample(remaning_data, int(0.2 * train_sample_size))"
   ]
  },
  {
   "cell_type": "code",
   "execution_count": 39,
   "metadata": {},
   "outputs": [],
   "source": [
    "def load_image(image_path):\n",
    "    '''\n",
    "        objective: read images from filename\n",
    "        image_path: filename in a sepcific folder\n",
    "    '''\n",
    "    img = cv2.imread(image_path)  # Read image\n",
    "    img = cv2.cvtColor(img, cv2.COLOR_BGR2RGB)  # Convert to RGB\n",
    "    img = cv2.resize(img, image_size)  # Resize to (224,224)\n",
    "    img = img / 255.0  # Normalize to [0,1]\n",
    "    return img"
   ]
  },
  {
   "cell_type": "code",
   "execution_count": 40,
   "metadata": {},
   "outputs": [],
   "source": [
    "# Obtain train images\n",
    "train_images = []\n",
    "train_labels = []\n",
    "train_label_map = {category: idx for idx, category in enumerate(train_data.keys())}\n",
    "\n",
    "for category, filenames in train_data.items():\n",
    "    for filename in filenames:\n",
    "        image_path = os.path.join(training_path, category, filename)\n",
    "        img = load_image(image_path)\n",
    "        train_images.append(img)\n",
    "        train_labels.append(train_label_map[category])\n",
    "\n",
    "train_images = np.array(train_images, dtype=np.float32)\n",
    "train_labels = np.array(train_labels, dtype=np.int32)"
   ]
  },
  {
   "cell_type": "code",
   "execution_count": 41,
   "metadata": {},
   "outputs": [],
   "source": [
    "# Obtain validation images\n",
    "validation_images = []\n",
    "validation_labels = []\n",
    "\n",
    "for category, filenames in all_data.items():\n",
    "    for filename in validation_data:\n",
    "        if filename in filenames:\n",
    "            image_path = os.path.join(training_path, category, filename)\n",
    "            img = load_image(image_path)\n",
    "            validation_images.append(img)\n",
    "            validation_labels.append(train_label_map[category])\n",
    "\n",
    "validation_images = np.array(validation_images, dtype=np.float32)\n",
    "validation_labels = np.array(validation_labels, dtype=np.int32)"
   ]
  },
  {
   "cell_type": "code",
   "execution_count": null,
   "metadata": {},
   "outputs": [],
   "source": [
    "label_map_reverse = {v: k for k, v in train_label_map.items()}\n",
    "\n",
    "# Create subdirectories for each category label\n",
    "unique_labels = np.unique(train_labels)\n",
    "for label in unique_labels:\n",
    "    category_name = label_map_reverse[label]\n",
    "    os.makedirs(os.path.join(train_data_path, category_name), exist_ok=True)\n",
    "    os.makedirs(os.path.join(validation_data_path, category_name), exist_ok=True)\n",
    "\n",
    "# Function to save images into category-labeled folders\n",
    "def save_images(images, labels, folder):\n",
    "    for i, (image, label) in enumerate(zip(images, labels)):\n",
    "        category_name = label_map_reverse[label]  # Convert label to category name\n",
    "        label_dir = os.path.join(folder, category_name)  # Folder for each category\n",
    "        os.makedirs(label_dir, exist_ok=True)  # Ensure category directory exists\n",
    "        \n",
    "        image = (image * 255).astype(np.uint8)  # Convert back to 0–255 range\n",
    "        img = Image.fromarray(image)  # Convert to PIL Image\n",
    "        img.save(os.path.join(label_dir, f\"{i}.jpg\"))  # Save image"
   ]
  },
  {
   "cell_type": "code",
   "execution_count": null,
   "metadata": {},
   "outputs": [],
   "source": [
    "# Save training images\n",
    "save_images(train_images, train_labels, train_data_path)\n",
    "\n",
    "# Save validation images\n",
    "save_images(validation_images, validation_labels, validation_data_path)"
   ]
  },
  {
   "cell_type": "code",
   "execution_count": 25,
   "metadata": {},
   "outputs": [
    {
     "data": {
      "image/png": "[encoded data removed]",
      "text/plain": [
       "<Figure size 640x480 with 1 Axes>"
      ]
     },
     "metadata": {},
     "output_type": "display_data"
    }
   ],
   "source": [
    "pd.Series(train_labels).value_counts().plot(kind='bar', color='skyblue', edgecolor='black')\n",
    "plt.title('Validation Label Distribution')\n",
    "plt.xlabel('Labels')\n",
    "plt.ylabel('Count')\n",
    "plt.xticks(rotation=45)\n",
    "plt.show()"
   ]
  },
  {
   "cell_type": "code",
   "execution_count": 26,
   "metadata": {},
   "outputs": [
    {
     "data": {
      "image/png": "[encoded data removed]",
      "text/plain": [
       "<Figure size 640x480 with 1 Axes>"
      ]
     },
     "metadata": {},
     "output_type": "display_data"
    }
   ],
   "source": [
    "pd.Series(validation_labels).value_counts().plot(kind='bar', color='skyblue', edgecolor='black')\n",
    "plt.title('Validation Label Distribution')\n",
    "plt.xlabel('Labels')\n",
    "plt.ylabel('Count')\n",
    "plt.xticks(rotation=45)\n",
    "plt.show()"
   ]
  }
 ],
 "metadata": {
  "kernelspec": {
   "display_name": "Python 3",
   "language": "python",
   "name": "python3"
  },
  "language_info": {
   "codemirror_mode": {
    "name": "ipython",
    "version": 3
   },
   "file_extension": ".py",
   "mimetype": "text/x-python",
   "name": "python",
   "nbconvert_exporter": "python",
   "pygments_lexer": "ipython3",
   "version": "3.12.4"
  }
 },
 "nbformat": 4,
 "nbformat_minor": 2
}
